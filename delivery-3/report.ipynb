{
 "cells": [
  {
   "attachments": {},
   "cell_type": "markdown",
   "id": "19b43aee-c23f-4ef7-8547-9c309b2dbecb",
   "metadata": {},
   "source": [
    "# Projeto de Bases de Dados - Parte 3\n",
    "\n",
    "### Docente Responsável\n",
    "\n",
    "Prof. Flávio Martins\n",
    "\n",
    "### Turno BD2L19 - Grupo 05\n",
    "<dl>\n",
    "    <dt>71 horas (34.8%)</dt>\n",
    "    <dd>ist102802 Fábio Mata</dd>\n",
    "    <dt>65 horas (31.9%)</dt>\n",
    "    <dd>ist102848 Diogo Rodrigues</dd>\n",
    "    <dt>68 horas (33.3%)</dt>\n",
    "    <dd>ist103392 Nuno Gonçalves</dd>\n",
    "<dl>"
   ]
  },
  {
   "cell_type": "code",
   "execution_count": null,
   "id": "a6545a02-adea-4c57-b704-cfa1f6253e4b",
   "metadata": {
    "execution": {
     "iopub.execute_input": "2023-06-12T19:06:04.079530Z",
     "iopub.status.busy": "2023-06-12T19:06:04.079167Z",
     "iopub.status.idle": "2023-06-12T19:06:07.092234Z",
     "shell.execute_reply": "2023-06-12T19:06:07.091376Z",
     "shell.execute_reply.started": "2023-06-12T19:06:04.079504Z"
    },
    "tags": []
   },
   "outputs": [],
   "source": [
    "%load_ext sql\n",
    "%sql postgresql://db:db@postgres/db\n",
    "%config SqlMagic.displaylimit = 70"
   ]
  },
  {
   "attachments": {},
   "cell_type": "markdown",
   "id": "1c5deb6e-396e-401f-9b09-af4cd09491a9",
   "metadata": {
    "tags": []
   },
   "source": [
    "# Empresa de comércio online"
   ]
  },
  {
   "attachments": {},
   "cell_type": "markdown",
   "id": "76eab1e8-8d6a-41e3-b242-553a7f14ba84",
   "metadata": {
    "tags": []
   },
   "source": [
    "## 0. Carregamento da Base de Dados"
   ]
  },
  {
   "attachments": {},
   "cell_type": "markdown",
   "id": "e047df4e-b18b-4c70-8f7b-378b4201ee01",
   "metadata": {},
   "source": [
    "Carregue o esquema de Base de Dados apresentado no Anexo A."
   ]
  },
  {
   "cell_type": "code",
   "execution_count": null,
   "id": "c718077c-5193-47a0-bb76-8f1f43a713be",
   "metadata": {
    "execution": {
     "iopub.execute_input": "2023-06-12T19:06:07.094638Z",
     "iopub.status.busy": "2023-06-12T19:06:07.094234Z",
     "iopub.status.idle": "2023-06-12T19:06:08.100439Z",
     "shell.execute_reply": "2023-06-12T19:06:08.099455Z",
     "shell.execute_reply.started": "2023-06-12T19:06:07.094612Z"
    },
    "tags": []
   },
   "outputs": [],
   "source": [
    "%%sql\n",
    "\n",
    "DROP TABLE IF EXISTS customer CASCADE;\n",
    "DROP TABLE IF EXISTS orders CASCADE;\n",
    "DROP TABLE IF EXISTS pay CASCADE;\n",
    "DROP TABLE IF EXISTS employee CASCADE;\n",
    "DROP TABLE IF EXISTS process CASCADE;\n",
    "DROP TABLE IF EXISTS department CASCADE;\n",
    "DROP TABLE IF EXISTS workplace CASCADE;\n",
    "DROP TABLE IF EXISTS works CASCADE;\n",
    "DROP TABLE IF EXISTS office CASCADE;\n",
    "DROP TABLE IF EXISTS warehouse CASCADE;\n",
    "DROP TABLE IF EXISTS product CASCADE;\n",
    "DROP TABLE IF EXISTS contains CASCADE;\n",
    "DROP TABLE IF EXISTS supplier CASCADE;\n",
    "DROP TABLE IF EXISTS delivery CASCADE;\n",
    "\n",
    "CREATE TABLE customer(\n",
    "cust_no INTEGER PRIMARY KEY,\n",
    "name VARCHAR(80) NOT NULL,\n",
    "email VARCHAR(254) UNIQUE NOT NULL,\n",
    "phone VARCHAR(15),\n",
    "address VARCHAR(255)\n",
    ");\n",
    "\n",
    "CREATE TABLE orders(\n",
    "order_no INTEGER PRIMARY KEY,\n",
    "cust_no INTEGER NOT NULL REFERENCES customer,\n",
    "date DATE NOT NULL\n",
    "--order_no must exist in contains\n",
    ");\n",
    "\n",
    "CREATE TABLE pay(\n",
    "order_no INTEGER PRIMARY KEY REFERENCES orders,\n",
    "cust_no INTEGER NOT NULL REFERENCES customer\n",
    ");\n",
    "\n",
    "CREATE TABLE employee(\n",
    "ssn VARCHAR(20) PRIMARY KEY,\n",
    "TIN VARCHAR(20) UNIQUE NOT NULL,\n",
    "bdate DATE,\n",
    "name VARCHAR NOT NULL\n",
    "--age must be >=18\n",
    ");\n",
    "\n",
    "CREATE TABLE process(\n",
    "ssn VARCHAR(20) REFERENCES employee,\n",
    "order_no INTEGER REFERENCES orders,\n",
    "PRIMARY KEY (ssn, order_no)\n",
    ");\n",
    "\n",
    "CREATE TABLE department(\n",
    "name VARCHAR PRIMARY KEY\n",
    ");\n",
    "\n",
    "CREATE TABLE workplace(\n",
    "address VARCHAR PRIMARY KEY,\n",
    "lat NUMERIC(8, 6) NOT NULL,\n",
    "long NUMERIC(9, 6) NOT NULL,\n",
    "UNIQUE(lat, long)\n",
    "--address must be in warehouse or office but not both\n",
    ");\n",
    "\n",
    "CREATE TABLE office(\n",
    "address VARCHAR(255) PRIMARY KEY REFERENCES workplace\n",
    ");\n",
    "\n",
    "CREATE TABLE warehouse(\n",
    "address VARCHAR(255) PRIMARY KEY REFERENCES workplace\n",
    ");\n",
    "\n",
    "CREATE TABLE works(\n",
    "ssn VARCHAR(20) REFERENCES employee,\n",
    "name VARCHAR(200) REFERENCES department,\n",
    "address VARCHAR(255) REFERENCES workplace,\n",
    "PRIMARY KEY (ssn, name, address)\n",
    ");\n",
    "\n",
    "CREATE TABLE product(\n",
    "SKU VARCHAR(25) PRIMARY KEY,\n",
    "name VARCHAR(200) NOT NULL,\n",
    "description VARCHAR,\n",
    "price NUMERIC(10, 2) NOT NULL,\n",
    "ean NUMERIC(13) UNIQUE\n",
    ");\n",
    "\n",
    "CREATE TABLE contains(\n",
    "order_no INTEGER REFERENCES orders,\n",
    "SKU VARCHAR(25) REFERENCES product,\n",
    "qty INTEGER,\n",
    "PRIMARY KEY (order_no, SKU)\n",
    ");\n",
    "\n",
    "CREATE TABLE supplier(\n",
    "TIN VARCHAR(20) PRIMARY KEY,\n",
    "name VARCHAR(200),\n",
    "address VARCHAR(255),\n",
    "SKU VARCHAR(25) REFERENCES product,\n",
    "date DATE\n",
    ");\n",
    "\n",
    "CREATE TABLE delivery(\n",
    "address VARCHAR(255) REFERENCES warehouse,\n",
    "TIN VARCHAR(20) REFERENCES supplier,\n",
    "PRIMARY KEY (address, TIN)\n",
    ");"
   ]
  },
  {
   "attachments": {},
   "cell_type": "markdown",
   "id": "25fcb3f3-2ec6-4264-bd74-d07bfd56fa76",
   "metadata": {},
   "source": [
    "Crie as instruções para o seu preenchimento de forma consistente, garantindo que todas as consultas SQL e OLAP, apresentadas mais adiante, produzam um resultado não vazio. "
   ]
  },
  {
   "cell_type": "code",
   "execution_count": null,
   "id": "e33d841c-c21e-4a9a-88b4-00b45b039261",
   "metadata": {
    "execution": {
     "iopub.execute_input": "2023-06-12T19:06:08.102066Z",
     "iopub.status.busy": "2023-06-12T19:06:08.101577Z",
     "iopub.status.idle": "2023-06-12T19:06:09.027255Z",
     "shell.execute_reply": "2023-06-12T19:06:09.025253Z",
     "shell.execute_reply.started": "2023-06-12T19:06:08.102040Z"
    },
    "tags": []
   },
   "outputs": [],
   "source": [
    "%%sql --file populate.sql\n",
    "\n"
   ]
  },
  {
   "attachments": {},
   "cell_type": "markdown",
   "id": "9772880f-58f0-46c8-9670-737390210bb4",
   "metadata": {
    "tags": []
   },
   "source": [
    "## 1. Restrições de Integridade\n",
    "\n",
    "Apresente o código para implementar as seguintes restrições de integridade, se necessário, com recurso a extensões procedimentais SQL (Stored Procedures e Triggers):"
   ]
  },
  {
   "attachments": {},
   "cell_type": "markdown",
   "id": "a0a92dd6-9093-4f4e-addf-591d83c466b3",
   "metadata": {},
   "source": [
    "(RI-1) Nenhum empregado pode ter menos de 18 anos de idade"
   ]
  },
  {
   "cell_type": "code",
   "execution_count": null,
   "id": "c422052c-0463-46ae-9be1-b6f6ed19d2b9",
   "metadata": {
    "execution": {
     "iopub.execute_input": "2023-06-12T19:06:12.525330Z",
     "iopub.status.busy": "2023-06-12T19:06:12.524382Z",
     "iopub.status.idle": "2023-06-12T19:06:13.318448Z",
     "shell.execute_reply": "2023-06-12T19:06:13.317868Z",
     "shell.execute_reply.started": "2023-06-12T19:06:12.525213Z"
    },
    "tags": []
   },
   "outputs": [],
   "source": [
    "%%sql\n",
    "-- (RI-1)\n",
    "\n",
    "ALTER TABLE employee \n",
    "ADD CHECK (EXTRACT(YEAR FROM AGE(CURRENT_DATE, bdate)) >= 18);"
   ]
  },
  {
   "attachments": {},
   "cell_type": "markdown",
   "id": "e99193b5-fd48-4601-a226-34432074af53",
   "metadata": {},
   "source": [
    "(RI-2) Um 'Workplace' é obrigatoriamente um 'Office' ou 'Warehouse' mas não pode ser ambos"
   ]
  },
  {
   "cell_type": "code",
   "execution_count": null,
   "id": "188ec396-6e55-4fd3-b436-dcafe454f677",
   "metadata": {
    "execution": {
     "iopub.execute_input": "2023-06-12T19:06:13.319364Z",
     "iopub.status.busy": "2023-06-12T19:06:13.319158Z",
     "iopub.status.idle": "2023-06-12T19:06:14.036409Z",
     "shell.execute_reply": "2023-06-12T19:06:14.035396Z",
     "shell.execute_reply.started": "2023-06-12T19:06:13.319343Z"
    },
    "tags": []
   },
   "outputs": [],
   "source": [
    "%%sql\n",
    "-- (RI-2)\n",
    "\n",
    "CREATE OR REPLACE FUNCTION check_workplace_exclusivity()\n",
    "RETURNS TRIGGER AS\n",
    "$$\n",
    "BEGIN\n",
    "    IF (SELECT COUNT(*) FROM office WHERE address = NEW.address)\n",
    "        + (SELECT COUNT(*) FROM warehouse WHERE address = NEW.address) != 1 THEN\n",
    "        RAISE EXCEPTION 'Address must be in warehouse or office but not both';\n",
    "    END IF;\n",
    "    \n",
    "    RETURN NEW;\n",
    "END\n",
    "$$ LANGUAGE plpgsql;\n",
    "\n",
    "CREATE CONSTRAINT TRIGGER workplace_exclusivity\n",
    "AFTER INSERT ON workplace\n",
    "DEFERRABLE INITIALLY DEFERRED\n",
    "FOR EACH ROW\n",
    "EXECUTE FUNCTION check_workplace_exclusivity();\n",
    "\n",
    "CREATE CONSTRAINT TRIGGER workplace_exclusivity\n",
    "AFTER INSERT OR UPDATE OR DELETE ON office\n",
    "DEFERRABLE INITIALLY DEFERRED\n",
    "FOR EACH ROW\n",
    "EXECUTE FUNCTION check_workplace_exclusivity();\n",
    "\n",
    "CREATE CONSTRAINT TRIGGER workplace_exclusivity\n",
    "AFTER INSERT OR UPDATE OR DELETE ON warehouse\n",
    "DEFERRABLE INITIALLY DEFERRED\n",
    "FOR EACH ROW\n",
    "EXECUTE FUNCTION check_workplace_exclusivity();"
   ]
  },
  {
   "attachments": {},
   "cell_type": "markdown",
   "id": "7e659751-bbd0-475a-b36e-8d40d7d58a54",
   "metadata": {},
   "source": [
    "(RI-3) Uma 'Order' tem de figurar obrigatoriamente em 'Contains'."
   ]
  },
  {
   "cell_type": "code",
   "execution_count": null,
   "id": "f2993b94-77a8-4b09-b522-f39021c55131",
   "metadata": {
    "execution": {
     "iopub.execute_input": "2023-06-12T19:06:14.037635Z",
     "iopub.status.busy": "2023-06-12T19:06:14.037271Z",
     "iopub.status.idle": "2023-06-12T19:06:14.879536Z",
     "shell.execute_reply": "2023-06-12T19:06:14.878987Z",
     "shell.execute_reply.started": "2023-06-12T19:06:14.037580Z"
    },
    "tags": []
   },
   "outputs": [],
   "source": [
    "%%sql\n",
    "-- (RI-3)\n",
    "\n",
    "CREATE OR REPLACE FUNCTION check_order_in_contains()\n",
    "RETURNS TRIGGER AS\n",
    "$$\n",
    "BEGIN\n",
    "    IF (SELECT COUNT(*) FROM contains WHERE order_no = NEW.order_no) = 0 THEN\n",
    "        RAISE EXCEPTION 'Order_no must exist in contains';\n",
    "    END IF;\n",
    "    \n",
    "    RETURN NEW;\n",
    "END\n",
    "$$ LANGUAGE plpgsql;\n",
    "\n",
    "CREATE OR REPLACE FUNCTION check_order_still_in_contains()\n",
    "RETURNS TRIGGER AS\n",
    "$$\n",
    "BEGIN\n",
    "    IF (SELECT COUNT(*) FROM contains WHERE order_no = OLD.order_no) = 0\n",
    "        AND EXISTS(SELECT order_no FROM orders WHERE order_no = OLD.order_no) THEN\n",
    "        RAISE EXCEPTION 'Order_no must exist in contains';\n",
    "    END IF;\n",
    "    \n",
    "    RETURN NEW;\n",
    "END\n",
    "$$ LANGUAGE plpgsql;\n",
    "\n",
    "CREATE CONSTRAINT TRIGGER check_order_in_contains\n",
    "AFTER INSERT ON orders\n",
    "DEFERRABLE INITIALLY DEFERRED\n",
    "FOR EACH ROW\n",
    "EXECUTE FUNCTION check_order_in_contains();\n",
    "\n",
    "CREATE CONSTRAINT TRIGGER check_order_still_in_contains\n",
    "AFTER UPDATE OR DELETE ON contains\n",
    "DEFERRABLE INITIALLY DEFERRED\n",
    "FOR EACH ROW\n",
    "EXECUTE FUNCTION check_order_still_in_contains();"
   ]
  },
  {
   "attachments": {},
   "cell_type": "markdown",
   "id": "37637f46-470f-431a-9833-4d8665176450",
   "metadata": {
    "tags": []
   },
   "source": [
    "## 2. Consultas SQL"
   ]
  },
  {
   "attachments": {},
   "cell_type": "markdown",
   "id": "f861ee47-e72b-4633-8dac-b4728ed852b9",
   "metadata": {},
   "source": [
    "Apresente a consulta SQL mais sucinta para cada uma das seguintes questões"
   ]
  },
  {
   "attachments": {},
   "cell_type": "markdown",
   "id": "fd2e1654-059e-4ef5-a63d-5e81280baab0",
   "metadata": {},
   "source": [
    "1) Qual o número e nome do(s) cliente(s) com maior valor total de encomendas pagas?  "
   ]
  },
  {
   "cell_type": "code",
   "execution_count": null,
   "id": "5b79ced0-279d-4e04-921e-0c831d7a79f2",
   "metadata": {
    "execution": {
     "iopub.execute_input": "2023-06-12T19:06:14.880458Z",
     "iopub.status.busy": "2023-06-12T19:06:14.880225Z",
     "iopub.status.idle": "2023-06-12T19:06:16.430702Z",
     "shell.execute_reply": "2023-06-12T19:06:16.429449Z",
     "shell.execute_reply.started": "2023-06-12T19:06:14.880435Z"
    },
    "tags": []
   },
   "outputs": [],
   "source": [
    "%%sql\n",
    "\n",
    "WITH paid_orders_total AS (\n",
    "    SELECT\n",
    "        cust_no,\n",
    "        order_no,\n",
    "        SUM(qty * price) AS total\n",
    "    FROM\n",
    "        pay\n",
    "    INNER JOIN contains USING (order_no)\n",
    "    INNER JOIN product USING (sku)\n",
    "    GROUP BY order_no\n",
    ")\n",
    "SELECT\n",
    "    c.cust_no,\n",
    "    c.name\n",
    "FROM\n",
    "    paid_orders_total\n",
    "INNER JOIN customer c USING (cust_no)\n",
    "GROUP BY c.cust_no\n",
    "HAVING SUM(total) >= ALL(\n",
    "     SELECT\n",
    "        SUM(total)\n",
    "    FROM\n",
    "        paid_orders_total\n",
    "    INNER JOIN customer USING (cust_no)\n",
    "    GROUP BY cust_no   \n",
    ");"
   ]
  },
  {
   "attachments": {},
   "cell_type": "markdown",
   "id": "4f863499-c40e-428c-85e8-d2741362906d",
   "metadata": {},
   "source": [
    "2. Qual o nome dos empregados que processaram encomendas em todos os dias de 2022 em que houve encomendas?"
   ]
  },
  {
   "cell_type": "code",
   "execution_count": null,
   "id": "aadac5e9-d0e4-46e0-bab5-33d00b863884",
   "metadata": {
    "execution": {
     "iopub.execute_input": "2023-06-12T19:06:16.432121Z",
     "iopub.status.busy": "2023-06-12T19:06:16.431745Z",
     "iopub.status.idle": "2023-06-12T19:06:17.226870Z",
     "shell.execute_reply": "2023-06-12T19:06:17.225853Z",
     "shell.execute_reply.started": "2023-06-12T19:06:16.432085Z"
    },
    "tags": []
   },
   "outputs": [],
   "source": [
    "%%sql\n",
    "\n",
    "SELECT\n",
    "    name\n",
    "FROM\n",
    "    employee e\n",
    "WHERE NOT EXISTS (\n",
    "    SELECT DISTINCT date\n",
    "    FROM orders\n",
    "    WHERE EXTRACT(YEAR FROM date) = 2022\n",
    "    EXCEPT\n",
    "    SELECT date\n",
    "    FROM process\n",
    "    INNER JOIN orders USING (order_no)\n",
    "    WHERE ssn = e.ssn\n",
    ");"
   ]
  },
  {
   "attachments": {},
   "cell_type": "markdown",
   "id": "e871bc9e-60c4-465b-a727-9ff2d2115d0b",
   "metadata": {},
   "source": [
    "3. Quantas encomendas foram realizadas mas não pagas em cada mês de 2022?"
   ]
  },
  {
   "cell_type": "code",
   "execution_count": null,
   "id": "3e3e702e-1acb-4004-aa9e-31e4d5916669",
   "metadata": {
    "execution": {
     "iopub.execute_input": "2023-06-12T19:06:17.228624Z",
     "iopub.status.busy": "2023-06-12T19:06:17.228124Z",
     "iopub.status.idle": "2023-06-12T19:06:18.030453Z",
     "shell.execute_reply": "2023-06-12T19:06:18.029865Z",
     "shell.execute_reply.started": "2023-06-12T19:06:17.228583Z"
    },
    "tags": []
   },
   "outputs": [],
   "source": [
    "%%sql\n",
    "\n",
    "SELECT\n",
    "    month,\n",
    "    COUNT(not_paid_orders.date)\n",
    "FROM\n",
    "    (\n",
    "        SELECT date\n",
    "        FROM orders\n",
    "        WHERE EXTRACT(YEAR FROM date) = 2022\n",
    "            AND order_no NOT IN (SELECT order_no FROM pay)\n",
    "    ) AS not_paid_orders\n",
    "RIGHT JOIN generate_series(1, 12) AS month ON (EXTRACT(MONTH FROM date) = month)\n",
    "GROUP BY month\n",
    "ORDER BY month;"
   ]
  },
  {
   "attachments": {},
   "cell_type": "markdown",
   "id": "97f45cec-fe42-418a-b85d-c9e51807a42c",
   "metadata": {},
   "source": [
    "## 3. Vistas"
   ]
  },
  {
   "attachments": {},
   "cell_type": "markdown",
   "id": "03062b56-40fa-41c0-aac9-3e77b9049c27",
   "metadata": {},
   "source": [
    "Crie uma vista que resuma as informações mais importantes sobre as vendas de produtos, combinando informações de diferentes tabelas do esquema de base de dados. A vista deve ter o seguinte esquema:\n",
    "\n",
    "product_sales(sku, order_no, qty, total_price, year, month, day_of_month, day_of_week, city)"
   ]
  },
  {
   "cell_type": "code",
   "execution_count": null,
   "id": "0bbb2226-5de4-4051-b4c0-9130bd4904f5",
   "metadata": {
    "execution": {
     "iopub.execute_input": "2023-06-12T19:06:18.031498Z",
     "iopub.status.busy": "2023-06-12T19:06:18.031279Z",
     "iopub.status.idle": "2023-06-12T19:06:19.193074Z",
     "shell.execute_reply": "2023-06-12T19:06:19.192508Z",
     "shell.execute_reply.started": "2023-06-12T19:06:18.031478Z"
    },
    "tags": []
   },
   "outputs": [],
   "source": [
    "%%sql\n",
    "\n",
    "DROP VIEW IF EXISTS product_sales;\n",
    "\n",
    "CREATE VIEW product_sales AS\n",
    "SELECT\n",
    "    sku,\n",
    "    order_no,\n",
    "    qty,\n",
    "    qty * price AS total_price,\n",
    "    EXTRACT(YEAR FROM date) AS year,\n",
    "    EXTRACT(MONTH FROM date) AS month,\n",
    "    EXTRACT(DAY FROM date) AS day_of_month,\n",
    "    EXTRACT(DOW FROM date) AS day_of_week,\n",
    "    SUBSTRING(address SIMILAR '%____-___ #\"%#\"' ESCAPE '#') AS city\n",
    "FROM\n",
    "    contains\n",
    "INNER JOIN product USING (sku)\n",
    "INNER JOIN orders USING (order_no)\n",
    "INNER JOIN customer USING (cust_no)\n",
    "WHERE order_no IN (SELECT order_no FROM pay);"
   ]
  },
  {
   "attachments": {},
   "cell_type": "markdown",
   "id": "6b615865-602f-4974-9de1-27d0060362ef",
   "metadata": {
    "tags": []
   },
   "source": [
    "## 4. Desenvolvimento de Aplicação"
   ]
  },
  {
   "attachments": {},
   "cell_type": "markdown",
   "id": "0bad635d-f5c2-449f-97b0-90d10a4d482b",
   "metadata": {},
   "source": [
    "Todos os ficheiros relacionados com a app podem ser encontrados na directoria <code>/web</code>.\n",
    "Dentro dessa pasta existem 3 categorias de ficheiros, os ficheiros python (<code>app.py</code> e <code>app.cgi</code>),\n",
    "stylesheets (<code>static/style.css</code>) e as templates html (<code>base.html</code>, <code>index_base.html</code> e as específicas a cada entidade, que estão distribuídas por 4 pastas: <code>customers</code>, <code>orders</code>, <code>products</code> e <code>suppliers</code>). A template <code>base.html</code> contém a sidebar, os blocos de header, content e navigation (butões para trocar de página nas listagens). Apenas o <code>index_base.html</code> implementa o bloco de navigation, pelo que todos os <code>*indexes*</code> das várias secções herdam desta template (visto que as listagens são feitas nos indexes). Todo o routing/API está implementado em <code>app.py</code>.\n",
    "\n",
    "Árvore da directoria web:  \n",
    "![Web directory tree](https://media.discordapp.net/attachments/1103256858334076981/1119339603527217353/image.png)\n",
    "\n",
    "As funcionalidades que a app disponibiliza são as seguintes:\n",
    "- Secção de Customers: <b>(Perspectiva do Manager)</b>\n",
    "    - Listar todos os customers;\n",
    "    - Criar Customer;\n",
    "    - Apagar Customer;\n",
    "    - Visualizar Customer e suas orders: <b>(Perspectiva do Customer)</b>\n",
    "        - Visualizar informação do Customer;\n",
    "        - Listar todas as suas orders;\n",
    "        - Criar nova order;\n",
    "        - Pagar order;\n",
    "        - Visualizar order:\n",
    "            - Visualizar informação relativa à order;\n",
    "            - Preço total;\n",
    "            - Consultar estado de pagamento e opção de pagar caso não esteja paga;\n",
    "            - Listagem de todos os produtos que a compõem;\n",
    "- Secção de Products: <b>(Perspectiva do Manager)</b>\n",
    "    - Listar todos os products;\n",
    "    - Criar product;\n",
    "    - Apagar product;\n",
    "    - Editar product:\n",
    "        - Preço;\n",
    "        - Descrição;\n",
    "        - Apagar product;\n",
    "- Secção de Suppliers: <b>(Perspectiva do Manager)</b>\n",
    "    - Listar todos os suppliers;\n",
    "    - Criar supplier;\n",
    "    - Apagar supplier;"
   ]
  },
  {
   "attachments": {},
   "cell_type": "markdown",
   "id": "5dff0f43-90cc-4ab5-b874-c3fb24776728",
   "metadata": {},
   "source": [
    "## 5. Consultas OLAP"
   ]
  },
  {
   "attachments": {},
   "cell_type": "markdown",
   "id": "5c8c25ed-b858-4daf-a291-b59e489c0a44",
   "metadata": {},
   "source": [
    "Usando a vista desenvolvida para a Questão 3, escreva duas consultas SQL que permitam analisar:"
   ]
  },
  {
   "attachments": {},
   "cell_type": "markdown",
   "id": "bd8d173c-e72f-4e89-8949-e2df3b7b07a3",
   "metadata": {},
   "source": [
    "1. As quantidade e valores totais de venda de cada produto em 2022, globalmente, por cidade, por mês, dia do mês e dia da semana"
   ]
  },
  {
   "cell_type": "code",
   "execution_count": null,
   "id": "bf12ce01-15c0-4e7c-b329-576dd344ebf6",
   "metadata": {
    "execution": {
     "iopub.execute_input": "2023-06-12T19:06:19.193972Z",
     "iopub.status.busy": "2023-06-12T19:06:19.193806Z",
     "iopub.status.idle": "2023-06-12T19:06:30.231456Z",
     "shell.execute_reply": "2023-06-12T19:06:30.230988Z",
     "shell.execute_reply.started": "2023-06-12T19:06:19.193956Z"
    },
    "tags": []
   },
   "outputs": [],
   "source": [
    "%%sql\n",
    "\n",
    "WITH product_by_city_and_date AS (\n",
    "    SELECT\n",
    "        sku,\n",
    "        city,\n",
    "        EXTRACT(YEAR FROM generate_series) AS year,\n",
    "        EXTRACT(MONTH FROM generate_series) AS month,\n",
    "        EXTRACT(DAY FROM generate_series) AS day_of_month,\n",
    "        EXTRACT(DOW FROM generate_series) AS day_of_week\n",
    "    FROM generate_series('2022-01-01'::TIMESTAMP, '2022-12-31'::TIMESTAMP, '1 day')\n",
    "    CROSS JOIN (SELECT DISTINCT sku FROM product_sales) AS sku_list\n",
    "    CROSS JOIN (SELECT DISTINCT city FROM product_sales) AS city_list\n",
    ")\n",
    "SELECT\n",
    "    sku,\n",
    "    COALESCE(city::VARCHAR, 'WORLDWIDE') AS city,\n",
    "    COALESCE(month::VARCHAR, 'WHOLE YEAR') AS month,\n",
    "    COALESCE(day_of_month::VARCHAR, 'WHOLE MONTH') AS day_of_month,\n",
    "    COALESCE(day_of_week::VARCHAR, 'ALL WEEK DAYS') AS day_of_week,\n",
    "    SUM(COALESCE(qty, 0)) AS total_qty,\n",
    "    SUM(COALESCE(total_price, 0)) AS total_sales\n",
    "FROM product_sales\n",
    "RIGHT JOIN product_by_city_and_date USING (sku, city, year, month, day_of_month, day_of_week)\n",
    "GROUP BY sku, GROUPING SETS ((city), (month), (day_of_month), (day_of_week), ())\n",
    "ORDER BY sku, city, month::INTEGER, day_of_month::INTEGER, day_of_week::INTEGER;"
   ]
  },
  {
   "attachments": {},
   "cell_type": "markdown",
   "id": "a6f88296-429c-4c1c-9a7a-5cbe9cb65920",
   "metadata": {},
   "source": [
    "2. O valor médio diário das vendas de todos os produtos em 2022, globalmente, por mês e dia da semana"
   ]
  },
  {
   "cell_type": "code",
   "execution_count": null,
   "id": "7aac0901-02ad-4a40-964e-dc03430f8e77",
   "metadata": {
    "execution": {
     "iopub.execute_input": "2023-06-12T19:06:30.232417Z",
     "iopub.status.busy": "2023-06-12T19:06:30.232194Z",
     "iopub.status.idle": "2023-06-12T19:06:32.176666Z",
     "shell.execute_reply": "2023-06-12T19:06:32.175424Z",
     "shell.execute_reply.started": "2023-06-12T19:06:30.232387Z"
    },
    "tags": []
   },
   "outputs": [],
   "source": [
    "%%sql\n",
    "\n",
    "WITH days_of_2022 AS (\n",
    "    SELECT\n",
    "        EXTRACT(YEAR FROM generate_series) AS year,\n",
    "        EXTRACT(MONTH FROM generate_series) AS month,\n",
    "        EXTRACT(DAY FROM generate_series) AS day_of_month,\n",
    "        EXTRACT(DOW FROM generate_series) AS day_of_week\n",
    "    FROM generate_series('2022-01-01'::TIMESTAMP, '2022-12-31'::TIMESTAMP, '1 day')\n",
    ")\n",
    "SELECT\n",
    "    COALESCE(month::VARCHAR, 'WHOLE YEAR') AS month,\n",
    "    COALESCE(day_of_week::VARCHAR, 'WHOLE MONTH') AS day_of_week,\n",
    "    AVG(daily_sales)::NUMERIC(13,5) AS avg_sales\n",
    "FROM (\n",
    "    SELECT\n",
    "        month AS month,\n",
    "        day_of_week AS day_of_week,\n",
    "        day_of_month AS day_of_month,\n",
    "        SUM(COALESCE(total_price, 0)) AS daily_sales\n",
    "    FROM product_sales\n",
    "    RIGHT JOIN days_of_2022 d USING (year, month, day_of_month, day_of_week)\n",
    "    GROUP BY month, day_of_month, day_of_week\n",
    ") AS sales_per_day\n",
    "GROUP BY GROUPING SETS ((month), (day_of_week), ())\n",
    "ORDER BY month::INTEGER, day_of_week;"
   ]
  },
  {
   "attachments": {},
   "cell_type": "markdown",
   "id": "5a75300b-51d0-4512-8b50-ffac98d66070",
   "metadata": {
    "tags": []
   },
   "source": [
    "## 6. Índices"
   ]
  },
  {
   "attachments": {},
   "cell_type": "markdown",
   "id": "35f160cc-30e9-4381-9b3e-0d78ef421af8",
   "metadata": {
    "tags": []
   },
   "source": [
    "Indique, com a devida justificação, que tipo de índice(s), sobre qual(is) atributo(s) e sobre qual(is) tabela(s) faria sentido criar, de forma a agilizar a execução de cada uma das seguintes consultas: "
   ]
  },
  {
   "attachments": {},
   "cell_type": "markdown",
   "id": "6e6e7eb2-c8ba-4d93-a31b-a2384d538fc0",
   "metadata": {},
   "source": [
    "### 6.1\n",
    "SELECT order_no  \n",
    "FROM orders  \n",
    "JOIN contains USING (order_no)  \n",
    "JOIN product USING (SKU)  \n",
    "WHERE price > 50 AND EXTRACT(YEAR FROM date) = 2023;"
   ]
  },
  {
   "cell_type": "markdown",
   "id": "b12768c7-efcc-4550-a7c1-7f8bbafd6409",
   "metadata": {},
   "source": [
    "Decidimos criar um índice *Hash* para <code>EXTRACT(YEAR from date)</code> na relação <code>orders</code>:\n",
    "- Visto que todos os *JOIN*s (dois a dois) são feitos através de um atributo com índice (*primary keys*), não existe vantagem em criar um índice nos atributos <code>order_no</code> e <code>SKU</code>. Pelo que nos restam dois atributos candidatos: <code>price</code> e <code>date</code>;\n",
    "- No atributo <code>price</code>, não faz sentido criar um índice visto que o *PG* filtra as linhas por <code>price</code> à medida que vai dando *JOIN* entre a tabela resultante do primeiro *JOIN* e a tabela <code>product</code>;\n",
    "- No atributo <code>date</code>, faz sentido criar um índice porque o *PG* faz um *Seq Scan* nas <code>orders</code> para filtrar por este atributo. Visto que o *PG* não consegue processar o <code>EXTRACT</code> como uma comparação de range, um índice no atributo <code>date</code> não seria vantajoso, pelo que criámos um indice *Hash* para <code>EXTRACT(YEAR from date)</code> (optámos por um índice *Hash* em vez de *BTree* porque a condição de filtragem é uma igualdade);\n",
    "- Assim, o *PG* deixa de fazer um *Seq Scan* nas <code>orders</code> e passa a fazer um *Bitmap Heap Scan* nas <code>orders</code> juntamente com um *Bitmap Index Scan* no índice criado."
   ]
  },
  {
   "cell_type": "code",
   "execution_count": null,
   "id": "2f0826bb",
   "metadata": {},
   "outputs": [],
   "source": [
    "%%sql\n",
    "\n",
    "DROP INDEX IF EXISTS orders_extract_year_idx;\n",
    "CREATE INDEX orders_extract_year_idx ON orders USING HASH(EXTRACT(YEAR from date));"
   ]
  },
  {
   "attachments": {},
   "cell_type": "markdown",
   "id": "89f6cb2b-8425-42f8-810c-9c9e5797b686",
   "metadata": {},
   "source": [
    "### 6.2\n",
    "SELECT order_no, SUM(qty*price)  \n",
    "FROM contains  \n",
    "JOIN product USING (SKU)  \n",
    "WHERE name LIKE 'A%'  \n",
    "GROUP BY order_no;"
   ]
  },
  {
   "cell_type": "markdown",
   "id": "1af12988-e1f5-4a72-835d-9aba30d0ce88",
   "metadata": {},
   "source": [
    "Decidimos criar um índice BTree no atributo <code>name</code> da relação <code>product</code>:\n",
    "- Visto que o *JOIN* é feito através de um atributo com índice (*primary key*), não existe vantagem em criar um índice no atributo <code>SKU</code>. Pelo que nos resta apenas um atributo candidato: <code>name</code>;\n",
    "- No atributo <code>name</code>, faz sentido criar um índice porque o *PG* faz um *Seq Scan* na tabela <code>product</code> para filtrar por este atributo. Visto que este filtro utiliza *pattern matching*, criámos um índice *BTree* no atributo <code>name</code>;\n",
    "- Apesar de termos criado este índice, o *PG* não o estava a utilizar por ser demasiado abrangente (abrangia toda a tabela), o que o torna pouco eficiente. Assim sendo, tivemos que indexar apenas os <code>name</code>'s que seguem o padrão <code>'A%'</code>.\n",
    "- Desta forma, o *PG* deixa de fazer um *Seq Scan* na tabela <code>product</code> e passa a fazer um *Bitmap Heap Scan* na tabela <code>product</code> juntamente com um *Bitmap Index Scan* no índice criado."
   ]
  },
  {
   "cell_type": "code",
   "execution_count": null,
   "id": "7ec72541",
   "metadata": {},
   "outputs": [],
   "source": [
    "%%sql\n",
    "\n",
    "DROP INDEX IF EXISTS product_name_idx;\n",
    "CREATE INDEX product_name_idx ON product(name) WHERE name LIKE 'A%';"
   ]
  }
 ],
 "metadata": {
  "kernelspec": {
   "display_name": "Python 3 (ipykernel)",
   "language": "python",
   "name": "python3"
  },
  "language_info": {
   "codemirror_mode": {
    "name": "ipython",
    "version": 3
   },
   "file_extension": ".py",
   "mimetype": "text/x-python",
   "name": "python",
   "nbconvert_exporter": "python",
   "pygments_lexer": "ipython3",
   "version": "3.10.11"
  }
 },
 "nbformat": 4,
 "nbformat_minor": 5
}
